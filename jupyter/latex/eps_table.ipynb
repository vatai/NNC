{
 "cells": [
  {
   "cell_type": "code",
   "execution_count": 1,
   "metadata": {},
   "outputs": [
    {
     "name": "stdout",
     "output_type": "stream",
     "text": [
      "$\\min$ & $\\max$ & $\\operatorname{avg}$ & $\\operatorname{avg}$ \\circ $\\min$ & $\\operatorname{avg}$ \\circ $\\operatorname{med}$ \\circ $\\operatorname{med}$\\\\\n",
      "xception &  0.0000  &  0.9739  &  0.0031  &  0.0004  &  0.0752 \\\\\n",
      "vgg16 &  0.0000  &  0.9371  &  0.0006  &  0.0001  &  0.0338 \\\\\n",
      "vgg19 &  0.0000  &  0.9379  &  0.0007  &  0.0001  &  0.0287 \n"
     ]
    }
   ],
   "source": [
    "import itertools\n",
    "import os\n",
    "import sys\n",
    "\n",
    "%matplotlib inline\n",
    "import matplotlib.pyplot as plt\n",
    "import numpy as np\n",
    "\n",
    "sys.path.append('../../src')\n",
    "from nnclib.latex import eps_table\n",
    "\n",
    "\n",
    "my_model_names = ['xception', 'vgg16', 'vgg19']\n",
    "my_fns = [\n",
    "    ['min'],\n",
    "    ['max'],\n",
    "    ['average'],\n",
    "    ['average', 'min'],\n",
    "    ['average', 'median', 'median']\n",
    "]\n",
    "\n",
    "test_funs = ['max', np.min, np.average, np.median]\n",
    "\n",
    "all_fns = [item for sublist in [itertools.product(test_funs, repeat=k) for k in range(1, 4)] for item in sublist]\n",
    "\n",
    "# data = get_epsilons_dict(my_model_names[0])\n",
    "# data = data.values()\n",
    "# result = _apply_fn_list(data, my_fns[2])\n",
    "# print(result)\n",
    "etbl = eps_table(my_model_names, my_fns)\n",
    "print(etbl)"
   ]
  },
  {
   "cell_type": "code",
   "execution_count": null,
   "metadata": {},
   "outputs": [],
   "source": []
  }
 ],
 "metadata": {
  "kernelspec": {
   "display_name": "Python 3",
   "language": "python",
   "name": "python3"
  },
  "language_info": {
   "codemirror_mode": {
    "name": "ipython",
    "version": 3
   },
   "file_extension": ".py",
   "mimetype": "text/x-python",
   "name": "python",
   "nbconvert_exporter": "python",
   "pygments_lexer": "ipython3",
   "version": "3.7.3"
  }
 },
 "nbformat": 4,
 "nbformat_minor": 2
}
